{
  "nbformat": 4,
  "nbformat_minor": 0,
  "metadata": {
    "colab": {
      "provenance": []
    },
    "kernelspec": {
      "name": "python3",
      "display_name": "Python 3"
    },
    "language_info": {
      "name": "python"
    }
  },
  "cells": [
    {
      "cell_type": "code",
      "execution_count": 2,
      "metadata": {
        "id": "cYQi33FROKKM"
      },
      "outputs": [],
      "source": [
        "import pandas as pd\n",
        "import matplotlib.pyplot as plt\n",
        "import seaborn as sns\n",
        "import os\n",
        "import numpy as np\n",
        "import statsmodels.api as sm\n",
        "from statsmodels.formula.api import ols\n",
        "\n",
        "# Set plotting style\n",
        "sns.set(style=\"whitegrid\")"
      ]
    },
    {
      "cell_type": "code",
      "source": [
        "# Load the datasets\n",
        "try:\n",
        "    trader_df = pd.read_csv(\"historical_data.csv\")\n",
        "    sentiment_df = pd.read_csv(\"fear_greed_index.csv\")\n",
        "\n",
        "    print(\"--- Trader Data (historical_data.csv) Head ---\")\n",
        "    print(trader_df.head())\n",
        "    print(\"\\nTrader Data Info:\")\n",
        "    trader_df.info()\n",
        "\n",
        "    print(\"\\n\\n--- Sentiment Data (fear_greed_index.csv) Head ---\")\n",
        "    print(sentiment_df.head())\n",
        "    print(\"\\nSentiment Data Info:\")\n",
        "    sentiment_df.info()\n",
        "\n",
        "except FileNotFoundError as e:\n",
        "    print(f\"Error loading file: {e}\")\n",
        "    print(\"Please make sure 'historical_data.csv' and 'fear_greed_index.csv' are uploaded.\")"
      ],
      "metadata": {
        "colab": {
          "base_uri": "https://localhost:8080/"
        },
        "id": "jdyiy5ZHR2OE",
        "outputId": "2178785c-0005-47a0-d5fa-bff1a786ba24"
      },
      "execution_count": 3,
      "outputs": [
        {
          "output_type": "stream",
          "name": "stdout",
          "text": [
            "--- Trader Data (historical_data.csv) Head ---\n",
            "                                      Account  Coin  Execution Price  \\\n",
            "0  0xae5eacaf9c6b9111fd53034a602c192a04e082ed  @107           7.9769   \n",
            "1  0xae5eacaf9c6b9111fd53034a602c192a04e082ed  @107           7.9800   \n",
            "2  0xae5eacaf9c6b9111fd53034a602c192a04e082ed  @107           7.9855   \n",
            "3  0xae5eacaf9c6b9111fd53034a602c192a04e082ed  @107           7.9874   \n",
            "4  0xae5eacaf9c6b9111fd53034a602c192a04e082ed  @107           7.9894   \n",
            "\n",
            "   Size Tokens  Size USD Side     Timestamp IST  Start Position Direction  \\\n",
            "0       986.87   7872.16  BUY  02-12-2024 22:50        0.000000       Buy   \n",
            "1        16.00    127.68  BUY  02-12-2024 22:50      986.524596       Buy   \n",
            "2       144.09   1150.63  BUY  02-12-2024 22:50     1002.518996       Buy   \n",
            "3       142.98   1142.04  BUY  02-12-2024 22:50     1146.558564       Buy   \n",
            "4         8.73     69.75  BUY  02-12-2024 22:50     1289.488521       Buy   \n",
            "\n",
            "   Closed PnL                                   Transaction Hash     Order ID  \\\n",
            "0         0.0  0xec09451986a1874e3a980418412fcd0201f500c95bac...  52017706630   \n",
            "1         0.0  0xec09451986a1874e3a980418412fcd0201f500c95bac...  52017706630   \n",
            "2         0.0  0xec09451986a1874e3a980418412fcd0201f500c95bac...  52017706630   \n",
            "3         0.0  0xec09451986a1874e3a980418412fcd0201f500c95bac...  52017706630   \n",
            "4         0.0  0xec09451986a1874e3a980418412fcd0201f500c95bac...  52017706630   \n",
            "\n",
            "   Crossed       Fee      Trade ID     Timestamp  \n",
            "0     True  0.345404  8.950000e+14  1.730000e+12  \n",
            "1     True  0.005600  4.430000e+14  1.730000e+12  \n",
            "2     True  0.050431  6.600000e+14  1.730000e+12  \n",
            "3     True  0.050043  1.080000e+15  1.730000e+12  \n",
            "4     True  0.003055  1.050000e+15  1.730000e+12  \n",
            "\n",
            "Trader Data Info:\n",
            "<class 'pandas.core.frame.DataFrame'>\n",
            "RangeIndex: 211224 entries, 0 to 211223\n",
            "Data columns (total 16 columns):\n",
            " #   Column            Non-Null Count   Dtype  \n",
            "---  ------            --------------   -----  \n",
            " 0   Account           211224 non-null  object \n",
            " 1   Coin              211224 non-null  object \n",
            " 2   Execution Price   211224 non-null  float64\n",
            " 3   Size Tokens       211224 non-null  float64\n",
            " 4   Size USD          211224 non-null  float64\n",
            " 5   Side              211224 non-null  object \n",
            " 6   Timestamp IST     211224 non-null  object \n",
            " 7   Start Position    211224 non-null  float64\n",
            " 8   Direction         211224 non-null  object \n",
            " 9   Closed PnL        211224 non-null  float64\n",
            " 10  Transaction Hash  211224 non-null  object \n",
            " 11  Order ID          211224 non-null  int64  \n",
            " 12  Crossed           211224 non-null  bool   \n",
            " 13  Fee               211224 non-null  float64\n",
            " 14  Trade ID          211224 non-null  float64\n",
            " 15  Timestamp         211224 non-null  float64\n",
            "dtypes: bool(1), float64(8), int64(1), object(6)\n",
            "memory usage: 24.4+ MB\n",
            "\n",
            "\n",
            "--- Sentiment Data (fear_greed_index.csv) Head ---\n",
            "    timestamp  value classification        date\n",
            "0  1517463000     30           Fear  2018-02-01\n",
            "1  1517549400     15   Extreme Fear  2018-02-02\n",
            "2  1517635800     40           Fear  2018-02-03\n",
            "3  1517722200     24   Extreme Fear  2018-02-04\n",
            "4  1517808600     11   Extreme Fear  2018-02-05\n",
            "\n",
            "Sentiment Data Info:\n",
            "<class 'pandas.core.frame.DataFrame'>\n",
            "RangeIndex: 2644 entries, 0 to 2643\n",
            "Data columns (total 4 columns):\n",
            " #   Column          Non-Null Count  Dtype \n",
            "---  ------          --------------  ----- \n",
            " 0   timestamp       2644 non-null   int64 \n",
            " 1   value           2644 non-null   int64 \n",
            " 2   classification  2644 non-null   object\n",
            " 3   date            2644 non-null   object\n",
            "dtypes: int64(2), object(2)\n",
            "memory usage: 82.8+ KB\n"
          ]
        }
      ]
    },
    {
      "cell_type": "code",
      "source": [
        "# 1. Process Sentiment Data\n",
        "sentiment_df['date'] = pd.to_datetime(sentiment_df['date'])\n",
        "sentiment_df.set_index('date', inplace=True)\n",
        "sentiment_df.rename(columns={'value': 'sentiment_value'}, inplace=True)\n",
        "\n",
        "# 2. Process Trader Data and create new features\n",
        "trader_df['timestamp'] = pd.to_datetime(trader_df['Timestamp IST'], format='%d-%m-%Y %H:%M')\n",
        "trader_df['date'] = pd.to_datetime(trader_df['timestamp'].dt.date)\n",
        "\n",
        "# Create new features for advanced metrics\n",
        "trader_df['is_win'] = trader_df['Closed PnL'] > 0\n",
        "trader_df['gross_profit'] = trader_df['Closed PnL'].apply(lambda x: x if x > 0 else 0)\n",
        "trader_df['gross_loss'] = trader_df['Closed PnL'].apply(lambda x: abs(x) if x < 0 else 0)\n",
        "\n",
        "print(\"--- Processed Trader Data (with new feature columns) ---\")\n",
        "print(trader_df[['date', 'Closed PnL', 'is_win', 'gross_profit', 'gross_loss']].head())"
      ],
      "metadata": {
        "colab": {
          "base_uri": "https://localhost:8080/"
        },
        "id": "M5IRpA8WR3_F",
        "outputId": "f57e00b0-af09-4f26-fc36-09c6a9dc2b80"
      },
      "execution_count": 4,
      "outputs": [
        {
          "output_type": "stream",
          "name": "stdout",
          "text": [
            "--- Processed Trader Data (with new feature columns) ---\n",
            "        date  Closed PnL  is_win  gross_profit  gross_loss\n",
            "0 2024-12-02         0.0   False           0.0         0.0\n",
            "1 2024-12-02         0.0   False           0.0         0.0\n",
            "2 2024-12-02         0.0   False           0.0         0.0\n",
            "3 2024-12-02         0.0   False           0.0         0.0\n",
            "4 2024-12-02         0.0   False           0.0         0.0\n"
          ]
        }
      ]
    },
    {
      "cell_type": "code",
      "source": [
        "# Group by date and aggregate to get daily stats\n",
        "daily_trader_stats = trader_df.groupby('date').agg(\n",
        "    total_volume_usd=('Size USD', 'sum'),\n",
        "    total_pnl=('Closed PnL', 'sum'),\n",
        "    trade_count=('Transaction Hash', 'count'),\n",
        "    pnl_volatility=('Closed PnL', 'std'),\n",
        "    daily_win_rate=('is_win', 'mean'),\n",
        "    total_gross_profit=('gross_profit', 'sum'),\n",
        "    total_gross_loss=('gross_loss', 'sum')\n",
        ")\n",
        "\n",
        "# --- Calculate Advanced Daily Metrics ---\n",
        "daily_trader_stats['pnl_volatility'] = daily_trader_stats['pnl_volatility'].fillna(0)\n",
        "\n",
        "# Profit Factor\n",
        "daily_trader_stats['profit_factor'] = daily_trader_stats['total_gross_profit'] / daily_trader_stats['total_gross_loss']\n",
        "daily_trader_stats['profit_factor'].replace([np.inf, -np.inf], np.nan, inplace=True)\n",
        "daily_trader_stats['profit_factor'] = daily_trader_stats['profit_factor'].fillna(0)\n",
        "\n",
        "# Avg PnL per Trade\n",
        "daily_trader_stats['avg_pnl_per_trade'] = daily_trader_stats['total_pnl'] / daily_trader_stats['trade_count']\n",
        "daily_trader_stats['avg_pnl_per_trade'] = daily_trader_stats['avg_pnl_per_trade'].fillna(0)\n",
        "\n",
        "# Sharpe Ratio (Simple version: Return / Risk)\n",
        "daily_trader_stats['sharpe_ratio'] = daily_trader_stats['avg_pnl_per_trade'] / daily_trader_stats['pnl_volatility']\n",
        "daily_trader_stats['sharpe_ratio'].replace([np.inf, -np.inf], np.nan, inplace=True)\n",
        "daily_trader_stats['sharpe_ratio'] = daily_trader_stats['sharpe_ratio'].fillna(0)\n",
        "\n",
        "print(\"\\n--- Daily Trader Metrics (with advanced metrics) ---\")\n",
        "print(daily_trader_stats.head())"
      ],
      "metadata": {
        "colab": {
          "base_uri": "https://localhost:8080/"
        },
        "id": "1Qp2gJBlR3v0",
        "outputId": "4a1214dc-d6b3-4cc1-8f2d-3c3bd49330c5"
      },
      "execution_count": 5,
      "outputs": [
        {
          "output_type": "stream",
          "name": "stdout",
          "text": [
            "\n",
            "--- Daily Trader Metrics (with advanced metrics) ---\n",
            "            total_volume_usd   total_pnl  trade_count  pnl_volatility  \\\n",
            "date                                                                    \n",
            "2023-05-01            477.00    0.000000            3        0.000000   \n",
            "2023-12-05          50005.83    0.000000            9        0.000000   \n",
            "2023-12-14         113203.35 -205.434737           11      179.663534   \n",
            "2023-12-15          10609.95  -24.632034            2        4.474304   \n",
            "2023-12-16          15348.77    0.000000            3        0.000000   \n",
            "\n",
            "            daily_win_rate  total_gross_profit  total_gross_loss  \\\n",
            "date                                                               \n",
            "2023-05-01        0.000000            0.000000          0.000000   \n",
            "2023-12-05        0.000000            0.000000          0.000000   \n",
            "2023-12-14        0.363636          321.798393        527.233130   \n",
            "2023-12-15        0.000000            0.000000         24.632034   \n",
            "2023-12-16        0.000000            0.000000          0.000000   \n",
            "\n",
            "            profit_factor  avg_pnl_per_trade  sharpe_ratio  \n",
            "date                                                        \n",
            "2023-05-01       0.000000           0.000000      0.000000  \n",
            "2023-12-05       0.000000           0.000000      0.000000  \n",
            "2023-12-14       0.610353         -18.675885     -0.103949  \n",
            "2023-12-15       0.000000         -12.316017     -2.752610  \n",
            "2023-12-16       0.000000           0.000000      0.000000  \n"
          ]
        },
        {
          "output_type": "stream",
          "name": "stderr",
          "text": [
            "/tmp/ipython-input-2561976379.py:17: FutureWarning: A value is trying to be set on a copy of a DataFrame or Series through chained assignment using an inplace method.\n",
            "The behavior will change in pandas 3.0. This inplace method will never work because the intermediate object on which we are setting values always behaves as a copy.\n",
            "\n",
            "For example, when doing 'df[col].method(value, inplace=True)', try using 'df.method({col: value}, inplace=True)' or df[col] = df[col].method(value) instead, to perform the operation inplace on the original object.\n",
            "\n",
            "\n",
            "  daily_trader_stats['profit_factor'].replace([np.inf, -np.inf], np.nan, inplace=True)\n",
            "/tmp/ipython-input-2561976379.py:26: FutureWarning: A value is trying to be set on a copy of a DataFrame or Series through chained assignment using an inplace method.\n",
            "The behavior will change in pandas 3.0. This inplace method will never work because the intermediate object on which we are setting values always behaves as a copy.\n",
            "\n",
            "For example, when doing 'df[col].method(value, inplace=True)', try using 'df.method({col: value}, inplace=True)' or df[col] = df[col].method(value) instead, to perform the operation inplace on the original object.\n",
            "\n",
            "\n",
            "  daily_trader_stats['sharpe_ratio'].replace([np.inf, -np.inf], np.nan, inplace=True)\n"
          ]
        }
      ]
    },
    {
      "cell_type": "code",
      "source": [
        "# Merge the daily trader stats with the sentiment data\n",
        "merged_df = pd.merge(\n",
        "    daily_trader_stats,\n",
        "    sentiment_df,\n",
        "    left_index=True,\n",
        "    right_index=True,\n",
        "    how='inner'\n",
        ")\n",
        "\n",
        "# Create the directory and save the enhanced daily data\n",
        "os.makedirs('csv_files', exist_ok=True)\n",
        "merged_df.to_csv('csv_files/merged_daily_data_enhanced.csv')\n",
        "\n",
        "print(\"--- Merged Daily Data ---\")\n",
        "print(merged_df.head())\n",
        "print(\"\\nSuccessfully saved 'merged_daily_data_enhanced.csv' to 'csv_files/' directory.\")"
      ],
      "metadata": {
        "colab": {
          "base_uri": "https://localhost:8080/"
        },
        "id": "EFMrHqg4R3cl",
        "outputId": "4dcd90aa-d39a-459e-b25a-d98325c1d9c3"
      },
      "execution_count": 6,
      "outputs": [
        {
          "output_type": "stream",
          "name": "stdout",
          "text": [
            "--- Merged Daily Data ---\n",
            "            total_volume_usd   total_pnl  trade_count  pnl_volatility  \\\n",
            "date                                                                    \n",
            "2023-05-01            477.00    0.000000            3        0.000000   \n",
            "2023-12-05          50005.83    0.000000            9        0.000000   \n",
            "2023-12-14         113203.35 -205.434737           11      179.663534   \n",
            "2023-12-15          10609.95  -24.632034            2        4.474304   \n",
            "2023-12-16          15348.77    0.000000            3        0.000000   \n",
            "\n",
            "            daily_win_rate  total_gross_profit  total_gross_loss  \\\n",
            "date                                                               \n",
            "2023-05-01        0.000000            0.000000          0.000000   \n",
            "2023-12-05        0.000000            0.000000          0.000000   \n",
            "2023-12-14        0.363636          321.798393        527.233130   \n",
            "2023-12-15        0.000000            0.000000         24.632034   \n",
            "2023-12-16        0.000000            0.000000          0.000000   \n",
            "\n",
            "            profit_factor  avg_pnl_per_trade  sharpe_ratio   timestamp  \\\n",
            "date                                                                     \n",
            "2023-05-01       0.000000           0.000000      0.000000  1682919000   \n",
            "2023-12-05       0.000000           0.000000      0.000000  1701754200   \n",
            "2023-12-14       0.610353         -18.675885     -0.103949  1702531800   \n",
            "2023-12-15       0.000000         -12.316017     -2.752610  1702618200   \n",
            "2023-12-16       0.000000           0.000000      0.000000  1702704600   \n",
            "\n",
            "            sentiment_value classification  \n",
            "date                                        \n",
            "2023-05-01               63          Greed  \n",
            "2023-12-05               75  Extreme Greed  \n",
            "2023-12-14               72          Greed  \n",
            "2023-12-15               70          Greed  \n",
            "2023-12-16               67          Greed  \n",
            "\n",
            "Successfully saved 'merged_daily_data_enhanced.csv' to 'csv_files/' directory.\n"
          ]
        }
      ]
    },
    {
      "cell_type": "code",
      "source": [
        "# Group by sentiment classification to get the average of our metrics\n",
        "sentiment_analysis = merged_df.groupby('classification')[[\n",
        "    'total_volume_usd', 'total_pnl', 'trade_count', 'pnl_volatility',\n",
        "    'daily_win_rate', 'profit_factor', 'sharpe_ratio'\n",
        "]].mean()\n",
        "\n",
        "print(\"\\n--- Average Daily Metrics (Enhanced) by Sentiment ---\")\n",
        "print(sentiment_analysis)\n",
        "\n",
        "# --- Visualization ---\n",
        "os.makedirs('outputs', exist_ok=True)\n",
        "sentiment_order = ['Extreme Fear', 'Fear', 'Neutral', 'Greed', 'Extreme Greed']\n",
        "\n",
        "# List of metrics to plot\n",
        "metrics_to_plot = {\n",
        "    'total_pnl': 'Average Total Daily PnL (USD)',\n",
        "    'total_volume_usd': 'Average Total Daily Volume (USD)',\n",
        "    'trade_count': 'Average Daily Trade Count',\n",
        "    'pnl_volatility': 'Average PnL Volatility (Risk)',\n",
        "    'daily_win_rate': 'Average Daily Win Rate',\n",
        "    'profit_factor': 'Average Profit Factor',\n",
        "    'sharpe_ratio': 'Average Sharpe Ratio (Return/Risk)'\n",
        "}\n",
        "\n",
        "for metric, title in metrics_to_plot.items():\n",
        "    plt.figure(figsize=(10, 6))\n",
        "    sns.barplot(x=sentiment_analysis.index, y=metric, data=sentiment_analysis, order=sentiment_order)\n",
        "    plt.title(f'{title} by Market Sentiment')\n",
        "    plt.ylabel(title)\n",
        "    plt.xlabel('Market Sentiment')\n",
        "    plt.savefig(f'outputs/avg_{metric}_vs_sentiment.png')\n",
        "    plt.close() # Close the plot to avoid displaying it in the notebook output\n",
        "\n",
        "# Correlation Heatmap\n",
        "plt.figure(figsize=(12, 8))\n",
        "corr_cols = ['sentiment_value', 'total_volume_usd', 'total_pnl', 'trade_count', 'pnl_volatility', 'daily_win_rate', 'profit_factor', 'sharpe_ratio']\n",
        "sns.heatmap(merged_df[corr_cols].corr(), annot=True, cmap='coolwarm', fmt='.2f')\n",
        "plt.title('Correlation Heatmap of Metrics and Sentiment Value')\n",
        "plt.tight_layout()\n",
        "plt.savefig('outputs/correlation_heatmap_enhanced.png')\n",
        "plt.close()\n",
        "\n",
        "print(\"All plots saved to 'outputs/' directory.\")"
      ],
      "metadata": {
        "colab": {
          "base_uri": "https://localhost:8080/"
        },
        "id": "W_B8u_diSKJ1",
        "outputId": "238b0c43-5d84-454b-b528-2c69e33ba8be"
      },
      "execution_count": 7,
      "outputs": [
        {
          "output_type": "stream",
          "name": "stdout",
          "text": [
            "\n",
            "--- Average Daily Metrics (Enhanced) by Sentiment ---\n",
            "                total_volume_usd     total_pnl  trade_count  pnl_volatility  \\\n",
            "classification                                                                \n",
            "Extreme Fear        8.177447e+06  52793.589178  1528.571429      729.867572   \n",
            "Extreme Greed       1.091800e+06  23817.292199   350.807018      278.656985   \n",
            "Fear                5.311261e+06  36891.818040   679.527473      328.500183   \n",
            "Greed               1.495246e+06  11140.566181   260.637306      247.820567   \n",
            "Neutral             2.690180e+06  19297.323516   562.477612      292.949624   \n",
            "\n",
            "                daily_win_rate  profit_factor  sharpe_ratio  \n",
            "classification                                               \n",
            "Extreme Fear          0.327341      52.300837     -0.039984  \n",
            "Extreme Greed         0.467424   15845.016660      0.289535  \n",
            "Fear                  0.329112   38748.535914      0.205461  \n",
            "Greed                 0.335986    2989.795438      0.214639  \n",
            "Neutral               0.331886     343.347678      0.144389  \n",
            "All plots saved to 'outputs/' directory.\n"
          ]
        }
      ]
    },
    {
      "cell_type": "code",
      "source": [
        "# Fit an Ordinary Least Squares model to test if 'total_pnl' is different across 'classification'\n",
        "model = ols('total_pnl ~ C(classification)', data=merged_df).fit()\n",
        "\n",
        "# Perform the ANOVA test\n",
        "anova_table = sm.stats.anova_lm(model, typ=2)\n",
        "\n",
        "print(\"\\n--- ANOVA Test on Total PnL vs. Sentiment ---\")\n",
        "print(anova_table)"
      ],
      "metadata": {
        "colab": {
          "base_uri": "https://localhost:8080/"
        },
        "id": "yW9Hw9ErSMLh",
        "outputId": "17b45a97-7486-4b21-d429-f6d7029e509b"
      },
      "execution_count": 8,
      "outputs": [
        {
          "output_type": "stream",
          "name": "stdout",
          "text": [
            "\n",
            "--- ANOVA Test on Total PnL vs. Sentiment ---\n",
            "                         sum_sq     df        F    PR(>F)\n",
            "C(classification)  5.691421e+10    4.0  2.79126  0.025911\n",
            "Residual           2.416233e+12  474.0      NaN       NaN\n"
          ]
        }
      ]
    },
    {
      "cell_type": "code",
      "source": [
        "# Merge sentiment data back onto the original trader_df for user-level analysis\n",
        "trader_sentiment_df = pd.merge(\n",
        "    trader_df,\n",
        "    sentiment_df,\n",
        "    left_on='date',\n",
        "    right_index=True,\n",
        "    how='left'\n",
        ")\n",
        "trader_sentiment_df.dropna(subset=['classification'], inplace=True)\n",
        "\n",
        "# Group by Account and Sentiment Classification\n",
        "user_sentiment_analysis = trader_sentiment_df.groupby(['Account', 'classification']).agg(\n",
        "    total_pnl=('Closed PnL', 'sum'),\n",
        "    total_trades=('Transaction Hash', 'count'),\n",
        "    win_rate=('is_win', 'mean')\n",
        ").unstack(fill_value=0) # Pivot the sentiment classifications into columns\n",
        "\n",
        "# Save this user-level analysis to a CSV\n",
        "user_sentiment_analysis.to_csv('csv_files/user_sentiment_analysis.csv')\n",
        "\n",
        "print(\"\\n--- User-Level PnL, Trade Count, & Win Rate by Sentiment (Sample) ---\")\n",
        "print(user_sentiment_analysis.head())\n",
        "print(\"\\nSaved 'user_sentiment_analysis.csv' to 'csv_files/'.\")"
      ],
      "metadata": {
        "colab": {
          "base_uri": "https://localhost:8080/"
        },
        "id": "IJbKtw4qSPEZ",
        "outputId": "9c920a45-0dc8-48f9-fa07-1216ec2c4761"
      },
      "execution_count": 9,
      "outputs": [
        {
          "output_type": "stream",
          "name": "stdout",
          "text": [
            "\n",
            "--- User-Level PnL, Trade Count, & Win Rate by Sentiment (Sample) ---\n",
            "                                                total_pnl                 \\\n",
            "classification                               Extreme Fear  Extreme Greed   \n",
            "Account                                                                    \n",
            "0x083384f897ee0f19899168e3b1bec365f52a9012  124769.221441  -40282.335904   \n",
            "0x23e7a7f8d14b550961925fbfdaa92f5d195ba5bd   -4235.153051   35658.894935   \n",
            "0x271b280974205ca63b716753467d5a371de622ab   16706.884912    1793.160215   \n",
            "0x28736f43f1e871e6aa8b1148d38d4994275d72c4  -25666.012284  108009.960644   \n",
            "0x2c229d22b100a7beb69122eed721cee9b24011dd   11415.247787   90895.050410   \n",
            "\n",
            "                                                                         \\\n",
            "classification                                      Fear          Greed   \n",
            "Account                                                                   \n",
            "0x083384f897ee0f19899168e3b1bec365f52a9012  1.113374e+06  276719.270187   \n",
            "0x23e7a7f8d14b550961925fbfdaa92f5d195ba5bd -1.658737e+03   30053.395556   \n",
            "0x271b280974205ca63b716753467d5a371de622ab  3.012191e+04 -100019.806374   \n",
            "0x28736f43f1e871e6aa8b1148d38d4994275d72c4  1.342252e+04   31192.591971   \n",
            "0x2c229d22b100a7beb69122eed721cee9b24011dd  3.979191e+03   20075.672949   \n",
            "\n",
            "                                                          total_trades  \\\n",
            "classification                                    Neutral Extreme Fear   \n",
            "Account                                                                  \n",
            "0x083384f897ee0f19899168e3b1bec365f52a9012  125650.116740          100   \n",
            "0x23e7a7f8d14b550961925fbfdaa92f5d195ba5bd  -11933.080125          170   \n",
            "0x271b280974205ca63b716753467d5a371de622ab  -19038.340561          797   \n",
            "0x28736f43f1e871e6aa8b1148d38d4994275d72c4    5505.749364          574   \n",
            "0x2c229d22b100a7beb69122eed721cee9b24011dd   42292.843076          112   \n",
            "\n",
            "                                                                              \\\n",
            "classification                             Extreme Greed  Fear Greed Neutral   \n",
            "Account                                                                        \n",
            "0x083384f897ee0f19899168e3b1bec365f52a9012           945  1778   574     421   \n",
            "0x23e7a7f8d14b550961925fbfdaa92f5d195ba5bd           825  2622  2943     720   \n",
            "0x271b280974205ca63b716753467d5a371de622ab             5  1868   540     599   \n",
            "0x28736f43f1e871e6aa8b1148d38d4994275d72c4          7481  1399  2970     887   \n",
            "0x2c229d22b100a7beb69122eed721cee9b24011dd          1478   381   253    1015   \n",
            "\n",
            "                                               win_rate                \\\n",
            "classification                             Extreme Fear Extreme Greed   \n",
            "Account                                                                 \n",
            "0x083384f897ee0f19899168e3b1bec365f52a9012     0.370000      0.066667   \n",
            "0x23e7a7f8d14b550961925fbfdaa92f5d195ba5bd     0.300000      0.576970   \n",
            "0x271b280974205ca63b716753467d5a371de622ab     0.376412      0.800000   \n",
            "0x28736f43f1e871e6aa8b1148d38d4994275d72c4     0.287456      0.444459   \n",
            "0x2c229d22b100a7beb69122eed721cee9b24011dd     0.687500      0.487821   \n",
            "\n",
            "                                                                          \n",
            "classification                                  Fear     Greed   Neutral  \n",
            "Account                                                                   \n",
            "0x083384f897ee0f19899168e3b1bec365f52a9012  0.526434  0.160279  0.581948  \n",
            "0x23e7a7f8d14b550961925fbfdaa92f5d195ba5bd  0.478261  0.401631  0.361111  \n",
            "0x271b280974205ca63b716753467d5a371de622ab  0.382227  0.244444  0.000000  \n",
            "0x28736f43f1e871e6aa8b1148d38d4994275d72c4  0.430307  0.448485  0.466742  \n",
            "0x2c229d22b100a7beb69122eed721cee9b24011dd  0.433071  0.541502  0.575369  \n",
            "\n",
            "Saved 'user_sentiment_analysis.csv' to 'csv_files/'.\n"
          ]
        }
      ]
    }
  ]
}